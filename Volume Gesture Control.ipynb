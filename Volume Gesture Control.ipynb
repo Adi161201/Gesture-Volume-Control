{
 "metadata": {
  "language_info": {
   "codemirror_mode": {
    "name": "ipython",
    "version": 3
   },
   "file_extension": ".py",
   "mimetype": "text/x-python",
   "name": "python",
   "nbconvert_exporter": "python",
   "pygments_lexer": "ipython3",
   "version": "3.8.8"
  },
  "orig_nbformat": 2,
  "kernelspec": {
   "name": "python388jvsc74a57bd0ae7890921ac3c17143ff000ac7152addc6614e2051824da39aa37dab63d26d82",
   "display_name": "Python 3.8.8 64-bit ('base': conda)"
  }
 },
 "nbformat": 4,
 "nbformat_minor": 2,
 "cells": [
  {
   "cell_type": "code",
   "execution_count": 1,
   "metadata": {},
   "outputs": [
    {
     "output_type": "stream",
     "name": "stderr",
     "text": [
      "D:\\ANACONDA\\lib\\site-packages\\numpy\\_distributor_init.py:30: UserWarning: loaded more than 1 DLL from .libs:\nD:\\ANACONDA\\lib\\site-packages\\numpy\\.libs\\libopenblas.GK7GX5KEQ4F6UYO3P26ULGBQYHGQO7J4.gfortran-win_amd64.dll\nD:\\ANACONDA\\lib\\site-packages\\numpy\\.libs\\libopenblas.PYQHXLVVQ7VESDPUVUADXEVJOBGHJPAY.gfortran-win_amd64.dll\n  warnings.warn(\"loaded more than 1 DLL from .libs:\\n%s\" %\n"
     ]
    }
   ],
   "source": [
    "import cv2\n",
    "import time \n",
    "import numpy as np \n",
    "import matplotlib.pyplot as plt\n",
    "import warnings\n",
    "warnings.filterwarnings('ignore')\n",
    "import HandTracking as htm \n",
    "import math\n",
    "from ctypes import cast, POINTER\n",
    "from comtypes import CLSCTX_ALL\n",
    "from pycaw.pycaw import AudioUtilities, IAudioEndpointVolume"
   ]
  },
  {
   "cell_type": "code",
   "execution_count": 2,
   "metadata": {},
   "outputs": [],
   "source": [
    "# w,h=1100,480\n",
    "cap=cv2.VideoCapture(0)\n",
    "# cap.set(3,w)\n",
    "# cap.set(4,h)\n",
    "\n",
    "detector=htm.handDetector(detectionCon=0.9)   #detection confidence= 90%\n",
    "#-----------------------------------------------\n",
    "# Audio Control\n",
    "#-----------------------------------------------\n",
    "\n",
    "devices = AudioUtilities.GetSpeakers()\n",
    "interface = devices.Activate(\n",
    "    IAudioEndpointVolume._iid_, CLSCTX_ALL, None)\n",
    "volume = cast(interface, POINTER(IAudioEndpointVolume))\n",
    "# volume.GetMute()\n",
    "# volume.GetMasterVolumeLevel()\n",
    "volrange= volume.GetVolumeRange()\n",
    "\n",
    "\n",
    "minvol=volrange[0]\n",
    "maxvol=volrange[1]\n",
    "\n",
    "\n",
    "#------------------------------------------------\n",
    "while True:\n",
    "    ret,img=cap.read()\n",
    "    img=detector.findHands(img)\n",
    "    lmlist=detector.findPosition(img,draw=False)\n",
    "    if len(lmlist)!=0:\n",
    "        x1,y1=lmlist[4][1],lmlist[4][2]\n",
    "        x2,y2=lmlist[8][1],lmlist[8][2]\n",
    "\n",
    "        cx,cy= (x1+x2)//2, (y1+y2)//2      # Center of line\n",
    "\n",
    "        cv2.circle(img, (x1,y1), radius=10, color=(255,0,0), thickness=-1)\n",
    "        cv2.circle(img, (x2,y2), radius=10, color=(255,0,0), thickness=-1)\n",
    "        cv2.line(img, (x1,y1), (x2,y2), color=(255,0,255), thickness=3)\n",
    "        cv2.circle(img, (cx,cy), radius=6, color=(255,0,0), thickness=-1)\n",
    "\n",
    "        length=math.hypot(x2-x1, y2-y1)\n",
    "        # print(length)\n",
    "\n",
    "        if length<50:\n",
    "            cv2.circle(img, (cx,cy), radius=6, color=(0,255,0), thickness=-1)\n",
    "\n",
    "        #Hand Range : 25- 215\n",
    "        #Vol Range: -60  - 0\n",
    "\n",
    "        vol=np.interp(length, [17,182], [minvol,maxvol])\n",
    "\n",
    "        volBar =np.interp (length, [17,182], [400,150])\n",
    "\n",
    "        volPer=np.interp (length, [17,182], [0,100])\n",
    "        #print(int(length), vol )\n",
    "        volume.SetMasterVolumeLevel(vol, None)\n",
    "\n",
    "        cv2.rectangle(img, (50,150), (85,400), color=(255,0,255), thickness=3)\n",
    "        cv2.rectangle(img, (50,int(volBar)), (85,400), color=(255,0,0), thickness=-1)\n",
    "        # cv2.putText(img, f'{int(volPer)} %', (40,450), cv2.FONT_HERSHEY_COMPLEX,1,(255,0,0), 2)\n",
    "\n",
    "    cv2.imshow('Video',img)\n",
    "    if cv2.waitKey(1) & 0XFF==27:\n",
    "        break\n",
    "cap.release()\n",
    "cv2.destroyAllWindows()"
   ]
  },
  {
   "cell_type": "code",
   "execution_count": null,
   "metadata": {},
   "outputs": [],
   "source": []
  },
  {
   "cell_type": "code",
   "execution_count": null,
   "metadata": {},
   "outputs": [],
   "source": []
  },
  {
   "cell_type": "code",
   "execution_count": null,
   "metadata": {},
   "outputs": [],
   "source": []
  },
  {
   "cell_type": "code",
   "execution_count": null,
   "metadata": {},
   "outputs": [],
   "source": []
  },
  {
   "cell_type": "code",
   "execution_count": null,
   "metadata": {},
   "outputs": [],
   "source": []
  }
 ]
}